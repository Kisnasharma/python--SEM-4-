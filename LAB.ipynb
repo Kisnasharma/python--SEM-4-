{
 "cells": [
  {
   "cell_type": "markdown",
   "metadata": {},
   "source": [
    "# ASSIGNMENT - 2"
   ]
  },
  {
   "cell_type": "markdown",
   "metadata": {},
   "source": [
    "## Addition of two numbers"
   ]
  },
  {
   "cell_type": "code",
   "execution_count": 1,
   "metadata": {},
   "outputs": [
    {
     "name": "stdout",
     "output_type": "stream",
     "text": [
      "Sum is :  5\n"
     ]
    }
   ],
   "source": [
    "num1 = int(input(\"Enter num 1 : \"))\n",
    "num2 = int(input(\"Enter num 2 : \"))\n",
    "\n",
    "print(\"Sum is : \",num1+num2)"
   ]
  },
  {
   "cell_type": "markdown",
   "metadata": {},
   "source": [
    "## Max of two number"
   ]
  },
  {
   "cell_type": "code",
   "execution_count": 9,
   "metadata": {},
   "outputs": [
    {
     "name": "stdout",
     "output_type": "stream",
     "text": [
      "Max of 4 and 5 is 5\n"
     ]
    }
   ],
   "source": [
    "num1 = int(input(\"Enter num1 : \"))\n",
    "num2 = int(input(\"Enter num2 : \"))\n",
    "\n",
    "if num1 > num2 : \n",
    "    print(\"Max of\",num1,\"and\",num2,\"is\",num1)\n",
    "else :\n",
    "    print(\"Max of\",num1,\"and\",num2,\"is\",num2)\n"
   ]
  },
  {
   "cell_type": "markdown",
   "metadata": {},
   "source": [
    "## Factorial of a number\n"
   ]
  },
  {
   "cell_type": "code",
   "execution_count": 12,
   "metadata": {},
   "outputs": [
    {
     "name": "stdout",
     "output_type": "stream",
     "text": [
      "5 ! is : 120\n"
     ]
    }
   ],
   "source": [
    "num = int(input(\"Enter num : \"))\n",
    "fact = 1\n",
    "for _ in range(1,num+1):\n",
    "    fact *= _\n",
    "print(num,\"! is :\",fact)"
   ]
  },
  {
   "cell_type": "markdown",
   "metadata": {},
   "source": [
    "# ASSIGNMENT - 3"
   ]
  },
  {
   "cell_type": "markdown",
   "metadata": {},
   "source": [
    "##  Swap two elements in a list using 3rd variable\n"
   ]
  },
  {
   "cell_type": "code",
   "execution_count": 13,
   "metadata": {},
   "outputs": [
    {
     "name": "stdout",
     "output_type": "stream",
     "text": [
      "Before swap : [1, 4]\n",
      "After swap : [4, 1]\n"
     ]
    }
   ],
   "source": [
    "lst = [1,4]\n",
    "print(\"Before swap :\",lst)\n",
    "temp = lst[0]\n",
    "lst[0] = lst[1]\n",
    "lst[1] = temp\n",
    "\n",
    "print(\"After swap :\",lst)"
   ]
  },
  {
   "cell_type": "markdown",
   "metadata": {},
   "source": [
    "## Find n largest elements in a list\n"
   ]
  },
  {
   "cell_type": "code",
   "execution_count": null,
   "metadata": {},
   "outputs": [
    {
     "name": "stdout",
     "output_type": "stream",
     "text": [
      "[7, 6, 5]\n"
     ]
    }
   ],
   "source": [
    "import sys\n",
    "lst = list(map(int, input(\"Enter list: \").split()))\n",
    "n = int(input(\"Enter n :\"))\n",
    "new_lst=[]\n",
    "\n",
    "if n > len(lst):\n",
    "    print(n,\"is greater than length of lst\",len(lst),\"Hence can't find\")\n",
    "else:\n",
    "    for _ in range(n):\n",
    "        new_lst.append(max(lst))\n",
    "        lst[lst.index(max(lst))] = -sys.maxsize - 1\n",
    "\n",
    "print(new_lst)"
   ]
  },
  {
   "cell_type": "markdown",
   "metadata": {},
   "source": [
    "## Swap two elements in a list without using 3rd variable\n"
   ]
  },
  {
   "cell_type": "code",
   "execution_count": 1,
   "metadata": {},
   "outputs": [
    {
     "name": "stdout",
     "output_type": "stream",
     "text": [
      "before swap  : [1, 2]\n",
      "after swap  : [2, 1]\n"
     ]
    }
   ],
   "source": [
    "lst = [1,2]\n",
    "print(\"before swap  :\",lst)\n",
    "lst[0] = lst[0] + lst[1]\n",
    "lst[1] = lst[0] - lst[1]\n",
    "lst[0] = lst[0] - lst[1]\n",
    "print(\"after swap  :\",lst)"
   ]
  },
  {
   "cell_type": "markdown",
   "metadata": {},
   "source": [
    "##  Find the length of a list(using len())\n"
   ]
  },
  {
   "cell_type": "code",
   "execution_count": 2,
   "metadata": {},
   "outputs": [
    {
     "name": "stdout",
     "output_type": "stream",
     "text": [
      "length of list is :  6\n"
     ]
    }
   ],
   "source": [
    "lst = list(map(int,input(\"Enter lst : \").split()))\n",
    "print(\"length of list is : \",len(lst))"
   ]
  },
  {
   "cell_type": "markdown",
   "metadata": {},
   "source": [
    "## Write a python program to reverse a list\n"
   ]
  },
  {
   "cell_type": "code",
   "execution_count": 3,
   "metadata": {},
   "outputs": [
    {
     "name": "stdout",
     "output_type": "stream",
     "text": [
      "[5, 4, 3, 2, 1]\n"
     ]
    }
   ],
   "source": [
    "lst = list(map(int,input(\"Enter lst : \").split()))\n",
    "print(lst[::-1])"
   ]
  },
  {
   "cell_type": "markdown",
   "metadata": {},
   "source": [
    "# ASSIGNMENT - 4"
   ]
  },
  {
   "cell_type": "markdown",
   "metadata": {},
   "source": [
    "## Write a program to check if a string is palidrome or not\n"
   ]
  },
  {
   "cell_type": "code",
   "execution_count": 11,
   "metadata": {},
   "outputs": [
    {
     "name": "stdout",
     "output_type": "stream",
     "text": [
      "malayalam is palindrome\n"
     ]
    }
   ],
   "source": [
    "str = input(\"Enter a string : \")\n",
    "reversed_str = str[::-1]\n",
    "if reversed_str == str:\n",
    "    print(str,\"is palindrome\")\n",
    "else:\n",
    "    print(str,\"is not palindrome\")"
   ]
  },
  {
   "cell_type": "markdown",
   "metadata": {},
   "source": [
    "## Write a program to check if a string contains any special character"
   ]
  },
  {
   "cell_type": "code",
   "execution_count": 1,
   "metadata": {},
   "outputs": [
    {
     "name": "stdout",
     "output_type": "stream",
     "text": [
      "special charater present ;\n"
     ]
    }
   ],
   "source": [
    "import string\n",
    "str = input(\"Enter string : \")\n",
    "for char in str:\n",
    "    if char == char in string.punctuation:\n",
    "        print(\"special charater present\",char)\n",
    "        break"
   ]
  },
  {
   "cell_type": "markdown",
   "metadata": {},
   "source": [
    "# ASSIGNMENT - 5"
   ]
  },
  {
   "cell_type": "markdown",
   "metadata": {},
   "source": [
    "## Write a program to find sum of all the elements in a dictionary"
   ]
  },
  {
   "cell_type": "code",
   "execution_count": null,
   "metadata": {},
   "outputs": [
    {
     "name": "stdout",
     "output_type": "stream",
     "text": [
      "dict_values([10, 20, 30, 40, 50])\n",
      "Sum of dictionary eles :  150\n"
     ]
    }
   ],
   "source": [
    "dic = {\n",
    "    \"a\" : 10,\n",
    "    \"b\" : 20,\n",
    "    \"c\" : 30,\n",
    "    \"d\" : 40,\n",
    "    \"e\" : 50\n",
    "}\n",
    "# dic.values() will return list of values for key-value pairs\n",
    "print(dic.values())\n",
    "total_sum = sum(dic.values())\n",
    "print(\"Sum of dictionary eles : \",total_sum)"
   ]
  },
  {
   "cell_type": "markdown",
   "metadata": {},
   "source": [
    "## Write a program to check winner in election"
   ]
  },
  {
   "cell_type": "code",
   "execution_count": 7,
   "metadata": {},
   "outputs": [
    {
     "name": "stdout",
     "output_type": "stream",
     "text": [
      "Key with max value: C\n"
     ]
    }
   ],
   "source": [
    "# Storing values in a dictionary\n",
    "my_dict = {'A': 20, 'B': 40, 'C': 60}\n",
    "\n",
    "# Finding the key with the maximum value\n",
    "max_key = max(my_dict, key=my_dict.get)\n",
    "\n",
    "print(\"Key with max value:\", max_key)\n"
   ]
  },
  {
   "cell_type": "markdown",
   "metadata": {},
   "source": [
    "# ASSIGNMENT - 6"
   ]
  },
  {
   "cell_type": "markdown",
   "metadata": {},
   "source": [
    "##  Q Write a program to count the number of matching character in a pair of string."
   ]
  },
  {
   "cell_type": "code",
   "execution_count": 10,
   "metadata": {},
   "outputs": [
    {
     "name": "stdout",
     "output_type": "stream",
     "text": [
      "4\n"
     ]
    }
   ],
   "source": [
    "def count_matching_chars(s1,s2):\n",
    "    count = sum(1 for a,b in zip(s1,s2) if a==b)\n",
    "    return count\n",
    "\n",
    "print(count_matching_chars(\"hello\",\"hexlo\"))"
   ]
  },
  {
   "cell_type": "markdown",
   "metadata": {},
   "source": [
    "## Q Write a program to remove all duplicate from the given string."
   ]
  },
  {
   "cell_type": "code",
   "execution_count": 7,
   "metadata": {},
   "outputs": [
    {
     "name": "stdout",
     "output_type": "stream",
     "text": [
      "hey trIamkisn\n"
     ]
    }
   ],
   "source": [
    "import string\n",
    "\n",
    "def remove_duplicasies(s):\n",
    "    seen = set()\n",
    "    new_str = \"\"\n",
    "    for ch in str:\n",
    "        if ch not in seen:\n",
    "            new_str += ch\n",
    "            seen.add(ch)\n",
    "    \n",
    "    return new_str\n",
    "\n",
    "str = input(\"Enter string : \")\n",
    "str = remove_duplicasies(str)\n",
    "print(str)\n"
   ]
  },
  {
   "cell_type": "markdown",
   "metadata": {},
   "source": [
    "## Q wap To extract unique value dictionary values"
   ]
  },
  {
   "cell_type": "code",
   "execution_count": 8,
   "metadata": {},
   "outputs": [
    {
     "name": "stdout",
     "output_type": "stream",
     "text": [
      "{40, 10, 50, 20, 60, 30}\n"
     ]
    },
    {
     "data": {
      "text/plain": [
       "set"
      ]
     },
     "execution_count": 8,
     "metadata": {},
     "output_type": "execute_result"
    }
   ],
   "source": [
    "diction = {\n",
    "    \"a\" : 10,\n",
    "    \"b\" : 30,\n",
    "    \"c\" : 40,\n",
    "    \"d\" : 50,\n",
    "    \"e\" : 10,\n",
    "    \"f\" : 20,\n",
    "    \"g\" : 30,\n",
    "    \"h\" : 60\n",
    "}\n",
    "\n",
    "unique_values = set(diction.values())\n",
    "print(unique_values)\n",
    "type(unique_values)"
   ]
  },
  {
   "cell_type": "markdown",
   "metadata": {},
   "source": [
    "# ASSIGNMENT - 7"
   ]
  },
  {
   "cell_type": "markdown",
   "metadata": {},
   "source": [
    "## WAP to handle missing keys in python dictionary\n"
   ]
  },
  {
   "cell_type": "code",
   "execution_count": null,
   "metadata": {},
   "outputs": [],
   "source": []
  },
  {
   "cell_type": "markdown",
   "metadata": {},
   "source": [
    "## WAP to convert a list of tuples into dictionary\n"
   ]
  },
  {
   "cell_type": "code",
   "execution_count": 20,
   "metadata": {},
   "outputs": [
    {
     "data": {
      "text/plain": [
       "{'JAPAN': 1, 'PAKISTAN': 120, 'RUSSIA': 5}"
      ]
     },
     "execution_count": 20,
     "metadata": {},
     "output_type": "execute_result"
    }
   ],
   "source": [
    "lst_of_tuple = [(\"JAPAN\",1),(\"PAKISTAN\",120),(\"RUSSIA\",5)]\n",
    "dict(lst_of_tuple)"
   ]
  },
  {
   "cell_type": "markdown",
   "metadata": {},
   "source": [
    "## WAP to find yesterday, tomorrow and today"
   ]
  },
  {
   "cell_type": "code",
   "execution_count": 18,
   "metadata": {},
   "outputs": [
    {
     "name": "stdout",
     "output_type": "stream",
     "text": [
      "today : 2025-03-05\n",
      "yesterday : 2025-03-04\n",
      "tomorrow : 2025-03-06\n"
     ]
    }
   ],
   "source": [
    "from datetime import datetime, timedelta\n",
    "\n",
    "today = datetime.today().date()\n",
    "yesterday = today - timedelta(days=1)\n",
    "tomorrow = today + timedelta(days=1)\n",
    "print(\"today :\",today)\n",
    "print(\"yesterday :\",yesterday)\n",
    "print(\"tomorrow :\",tomorrow)"
   ]
  },
  {
   "cell_type": "markdown",
   "metadata": {},
   "source": [
    "# ASSIGNMENT - 8"
   ]
  },
  {
   "cell_type": "markdown",
   "metadata": {},
   "source": [
    "## write a python program to find sum of array"
   ]
  },
  {
   "cell_type": "code",
   "execution_count": null,
   "metadata": {},
   "outputs": [
    {
     "data": {
      "text/plain": [
       "np.int64(10)"
      ]
     },
     "execution_count": 14,
     "metadata": {},
     "output_type": "execute_result"
    }
   ],
   "source": [
    "import numpy as np\n",
    "arr = np.array([1,2,3,4])\n",
    "sum(arr)"
   ]
  },
  {
   "cell_type": "markdown",
   "metadata": {},
   "source": [
    "## write a python program to find largest element in an array"
   ]
  },
  {
   "cell_type": "code",
   "execution_count": 15,
   "metadata": {},
   "outputs": [
    {
     "data": {
      "text/plain": [
       "np.int64(7)"
      ]
     },
     "execution_count": 15,
     "metadata": {},
     "output_type": "execute_result"
    }
   ],
   "source": [
    "arr = np.array([1,3,2,4,7,2,4,2])\n",
    "max(arr)"
   ]
  },
  {
   "cell_type": "markdown",
   "metadata": {},
   "source": [
    "## write a python program to find reminder of array multiplication divided by n element in an array"
   ]
  },
  {
   "cell_type": "code",
   "execution_count": 30,
   "metadata": {},
   "outputs": [
    {
     "name": "stdout",
     "output_type": "stream",
     "text": [
      "arr1 before dividing by 3  = [ 2  6 12 20 30 42]\n",
      "arr1 after dividing by 3  = [2 0 0 2 0 0]\n"
     ]
    }
   ],
   "source": [
    "arr1 = np.array([1,2,3,4,5,6])\n",
    "arr2 = np.array([2,3,4,5,6,7])\n",
    "arr1 *= arr2\n",
    "n = 3\n",
    "print(\"arr1 before dividing by\",n,\" =\",arr1)\n",
    "arr1 %= n\n",
    "print(\"arr1 after dividing by\",n,\" =\",arr1)\n"
   ]
  },
  {
   "cell_type": "code",
   "execution_count": null,
   "metadata": {
    "vscode": {
     "languageId": "powershell"
    }
   },
   "outputs": [
    {
     "ename": "SyntaxError",
     "evalue": "invalid syntax (2830201818.py, line 1)",
     "output_type": "error",
     "traceback": [
      "\u001b[1;36m  Cell \u001b[1;32mIn[34], line 1\u001b[1;36m\u001b[0m\n\u001b[1;33m    git init\u001b[0m\n\u001b[1;37m        ^\u001b[0m\n\u001b[1;31mSyntaxError\u001b[0m\u001b[1;31m:\u001b[0m invalid syntax\n"
     ]
    }
   ],
   "source": []
  },
  {
   "cell_type": "code",
   "execution_count": null,
   "metadata": {
    "vscode": {
     "languageId": "powershell"
    }
   },
   "outputs": [],
   "source": []
  }
 ],
 "metadata": {
  "kernelspec": {
   "display_name": "Python 3",
   "language": "python",
   "name": "python3"
  },
  "language_info": {
   "codemirror_mode": {
    "name": "ipython",
    "version": 3
   },
   "file_extension": ".py",
   "mimetype": "text/x-python",
   "name": "python",
   "nbconvert_exporter": "python",
   "pygments_lexer": "ipython3",
   "version": "3.13.2"
  }
 },
 "nbformat": 4,
 "nbformat_minor": 2
}
