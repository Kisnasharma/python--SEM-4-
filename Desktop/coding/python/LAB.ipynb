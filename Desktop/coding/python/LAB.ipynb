{
 "cells": [
  {
   "cell_type": "markdown",
   "metadata": {},
   "source": [
    "# ASSIGNMENT - 2"
   ]
  },
  {
   "cell_type": "markdown",
   "metadata": {},
   "source": [
    "## Addition of two numbers"
   ]
  },
  {
   "cell_type": "code",
   "execution_count": 1,
   "metadata": {},
   "outputs": [
    {
     "name": "stdout",
     "output_type": "stream",
     "text": [
      "Sum is :  5\n"
     ]
    }
   ],
   "source": [
    "num1 = int(input(\"Enter num 1 : \"))\n",
    "num2 = int(input(\"Enter num 2 : \"))\n",
    "\n",
    "print(\"Sum is : \",num1+num2)"
   ]
  },
  {
   "cell_type": "markdown",
   "metadata": {},
   "source": [
    "## Max of two number"
   ]
  },
  {
   "cell_type": "code",
   "execution_count": 9,
   "metadata": {},
   "outputs": [
    {
     "name": "stdout",
     "output_type": "stream",
     "text": [
      "Max of 4 and 5 is 5\n"
     ]
    }
   ],
   "source": [
    "num1 = int(input(\"Enter num1 : \"))\n",
    "num2 = int(input(\"Enter num2 : \"))\n",
    "\n",
    "if num1 > num2 : \n",
    "    print(\"Max of\",num1,\"and\",num2,\"is\",num1)\n",
    "else :\n",
    "    print(\"Max of\",num1,\"and\",num2,\"is\",num2)\n"
   ]
  },
  {
   "cell_type": "markdown",
   "metadata": {},
   "source": [
    "## Factorial of a number\n"
   ]
  },
  {
   "cell_type": "code",
   "execution_count": 12,
   "metadata": {},
   "outputs": [
    {
     "name": "stdout",
     "output_type": "stream",
     "text": [
      "5 ! is : 120\n"
     ]
    }
   ],
   "source": [
    "num = int(input(\"Enter num : \"))\n",
    "fact = 1\n",
    "for _ in range(1,num+1):\n",
    "    fact *= _\n",
    "print(num,\"! is :\",fact)"
   ]
  },
  {
   "cell_type": "markdown",
   "metadata": {},
   "source": [
    "# ASSIGNMENT - 3"
   ]
  },
  {
   "cell_type": "markdown",
   "metadata": {},
   "source": [
    "##  Swap two elements in a list using 3rd variable\n"
   ]
  },
  {
   "cell_type": "code",
   "execution_count": 13,
   "metadata": {},
   "outputs": [
    {
     "name": "stdout",
     "output_type": "stream",
     "text": [
      "Before swap : [1, 4]\n",
      "After swap : [4, 1]\n"
     ]
    }
   ],
   "source": [
    "lst = [1,4]\n",
    "print(\"Before swap :\",lst)\n",
    "temp = lst[0]\n",
    "lst[0] = lst[1]\n",
    "lst[1] = temp\n",
    "\n",
    "print(\"After swap :\",lst)"
   ]
  },
  {
   "cell_type": "markdown",
   "metadata": {},
   "source": [
    "## Find n largest elements in a list\n"
   ]
  },
  {
   "cell_type": "code",
   "execution_count": null,
   "metadata": {},
   "outputs": [
    {
     "name": "stdout",
     "output_type": "stream",
     "text": [
      "[7, 6, 5]\n"
     ]
    }
   ],
   "source": [
    "import sys\n",
    "lst = list(map(int, input(\"Enter list: \").split()))\n",
    "n = int(input(\"Enter n :\"))\n",
    "new_lst=[]\n",
    "\n",
    "if n > len(lst):\n",
    "    print(n,\"is greater than length of lst\",len(lst),\"Hence can't find\")\n",
    "else:\n",
    "    for _ in range(n):\n",
    "        new_lst.append(max(lst))\n",
    "        lst[lst.index(max(lst))] = -sys.maxsize - 1\n",
    "\n",
    "print(new_lst)"
   ]
  },
  {
   "cell_type": "markdown",
   "metadata": {},
   "source": [
    "## Swap two elements in a list without using 3rd variable\n"
   ]
  },
  {
   "cell_type": "code",
   "execution_count": 1,
   "metadata": {},
   "outputs": [
    {
     "name": "stdout",
     "output_type": "stream",
     "text": [
      "before swap  : [1, 2]\n",
      "after swap  : [2, 1]\n"
     ]
    }
   ],
   "source": [
    "lst = [1,2]\n",
    "print(\"before swap  :\",lst)\n",
    "lst[0] = lst[0] + lst[1]\n",
    "lst[1] = lst[0] - lst[1]\n",
    "lst[0] = lst[0] - lst[1]\n",
    "print(\"after swap  :\",lst)"
   ]
  },
  {
   "cell_type": "markdown",
   "metadata": {},
   "source": [
    "##  Find the length of a list(using len())\n"
   ]
  },
  {
   "cell_type": "code",
   "execution_count": 2,
   "metadata": {},
   "outputs": [
    {
     "name": "stdout",
     "output_type": "stream",
     "text": [
      "length of list is :  6\n"
     ]
    }
   ],
   "source": [
    "lst = list(map(int,input(\"Enter lst : \").split()))\n",
    "print(\"length of list is : \",len(lst))"
   ]
  },
  {
   "cell_type": "markdown",
   "metadata": {},
   "source": [
    "## Write a python program to reverse a list\n"
   ]
  },
  {
   "cell_type": "code",
   "execution_count": 3,
   "metadata": {},
   "outputs": [
    {
     "name": "stdout",
     "output_type": "stream",
     "text": [
      "[5, 4, 3, 2, 1]\n"
     ]
    }
   ],
   "source": [
    "lst = list(map(int,input(\"Enter lst : \").split()))\n",
    "print(lst[::-1])"
   ]
  },
  {
   "cell_type": "code",
   "execution_count": null,
   "metadata": {},
   "outputs": [],
   "source": [
    "# ASSIGNMENT - 4"
   ]
  },
  {
   "cell_type": "markdown",
   "metadata": {},
   "source": [
    "## Write a program to check if a string is palidrome or not\n"
   ]
  },
  {
   "cell_type": "code",
   "execution_count": 11,
   "metadata": {},
   "outputs": [
    {
     "name": "stdout",
     "output_type": "stream",
     "text": [
      "malayalam is palindrome\n"
     ]
    }
   ],
   "source": [
    "str = input(\"Enter a string : \")\n",
    "reversed_str = str[::-1]\n",
    "if reversed_str == str:\n",
    "    print(str,\"is palindrome\")\n",
    "else:\n",
    "    print(str,\"is not palindrome\")"
   ]
  },
  {
   "cell_type": "markdown",
   "metadata": {},
   "source": [
    "## Write a program to check if a string contains any special character"
   ]
  },
  {
   "cell_type": "code",
   "execution_count": null,
   "metadata": {},
   "outputs": [
    {
     "name": "stdout",
     "output_type": "stream",
     "text": [
      "special charater present @\n"
     ]
    }
   ],
   "source": [
    "import string\n",
    "str = input(\"Enter string : \")\n",
    "for char in str:\n",
    "    if char == char in string.punctuation:\n",
    "        print(\"special charater present\",char)\n",
    "        break"
   ]
  }
 ],
 "metadata": {
  "kernelspec": {
   "display_name": "Python 3",
   "language": "python",
   "name": "python3"
  },
  "language_info": {
   "codemirror_mode": {
    "name": "ipython",
    "version": 3
   },
   "file_extension": ".py",
   "mimetype": "text/x-python",
   "name": "python",
   "nbconvert_exporter": "python",
   "pygments_lexer": "ipython3",
   "version": "3.13.2"
  }
 },
 "nbformat": 4,
 "nbformat_minor": 2
}
